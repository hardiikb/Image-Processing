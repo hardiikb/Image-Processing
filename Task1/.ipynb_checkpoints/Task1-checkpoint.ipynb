{
 "cells": [
  {
   "cell_type": "code",
   "execution_count": 1,
   "metadata": {},
   "outputs": [
    {
     "data": {
      "text/plain": [
       "True"
      ]
     },
     "execution_count": 1,
     "metadata": {},
     "output_type": "execute_result"
    }
   ],
   "source": [
    "import cv2\n",
    "import numpy as np\n",
    "\n",
    "image = cv2.imread('task1.png', 0)\n",
    "\n",
    "rows = image.shape[0] \n",
    "columns = image.shape[1]\n",
    "\n",
    "Th = np.array([[-1, 0, 1], [-2, 0, 2], [-1, 0, 1]], dtype = np.float)\n",
    "Tv = np.array([[-1, -2, -1], [0, 0, 0], [1, 2, 1]], dtype = np.float)\n",
    "\n",
    "outputX = np.zeros((rows,columns), dtype = np.float)\n",
    "outputY = np.zeros((rows,columns), dtype = np.float)\n",
    "magnitude = np.zeros((rows,columns), dtype = np.float)\n",
    "positiveX = np.zeros((rows,columns), dtype = np.float)\n",
    "positiveY = np.zeros((rows,columns), dtype = np.float)\n",
    "\n",
    "for row in range(0,rows-2):\n",
    "    for column in range(0,columns-2):\n",
    "        \n",
    "        window=image[row:row+3,column:column+3]\n",
    "       # print(window);\n",
    "        gx = ( window.copy() * Th ).sum();\n",
    "        gy = ( window.copy() * Tv ).sum();\n",
    "        \n",
    "        outputX[row+1][column+1]=gx\n",
    "        outputY[row+1][column+1]=gy\n",
    "    \n",
    "        g = np.sqrt(gx ** 2 + gy ** 2)\n",
    "        magnitude[row+1][column+1] = g\n",
    "\n",
    "magnitude /= magnitude.max()\n",
    "positiveX = (outputX - outputX.min()) / (outputX.max() - outputX.min())\n",
    "positiveY = (outputY - outputY.min()) / (outputY.max() - outputY.min())\n",
    "\n",
    "\n",
    "cv2.imwrite('outputX.png', outputX) \n",
    "cv2.imwrite('outputY.png', outputY)\n",
    "cv2.imwrite('magnitude.png', magnitude * 255)\n",
    "cv2.imwrite('positiveX.png', positiveX * 255) \n",
    "cv2.imwrite('positiveY.png', positiveY * 255)\n",
    "\n"
   ]
  }
 ],
 "metadata": {
  "kernelspec": {
   "display_name": "Python 3",
   "language": "python",
   "name": "python3"
  },
  "language_info": {
   "codemirror_mode": {
    "name": "ipython",
    "version": 3
   },
   "file_extension": ".py",
   "mimetype": "text/x-python",
   "name": "python",
   "nbconvert_exporter": "python",
   "pygments_lexer": "ipython3",
   "version": "3.6.5"
  }
 },
 "nbformat": 4,
 "nbformat_minor": 2
}
